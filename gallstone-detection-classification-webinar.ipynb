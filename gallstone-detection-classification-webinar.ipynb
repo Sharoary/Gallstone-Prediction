{
 "cells": [
  {
   "cell_type": "markdown",
   "id": "d0b7b2e1",
   "metadata": {
    "papermill": {
     "duration": 0.004548,
     "end_time": "2025-08-03T05:46:22.664379",
     "exception": false,
     "start_time": "2025-08-03T05:46:22.659831",
     "status": "completed"
    },
    "tags": []
   },
   "source": [
    "# Gallstone_Detection_Classification_Webinar"
   ]
  },
  {
   "cell_type": "markdown",
   "id": "24b0d695",
   "metadata": {
    "papermill": {
     "duration": 0.003381,
     "end_time": "2025-08-03T05:46:22.671754",
     "exception": false,
     "start_time": "2025-08-03T05:46:22.668373",
     "status": "completed"
    },
    "tags": []
   },
   "source": [
    "# Import Libraries"
   ]
  },
  {
   "cell_type": "code",
   "execution_count": 1,
   "id": "c7bde21b",
   "metadata": {
    "_cell_guid": "b1076dfc-b9ad-4769-8c92-a6c4dae69d19",
    "_uuid": "8f2839f25d086af736a60e9eeb907d3b93b6e0e5",
    "execution": {
     "iopub.execute_input": "2025-08-03T05:46:22.680557Z",
     "iopub.status.busy": "2025-08-03T05:46:22.680248Z",
     "iopub.status.idle": "2025-08-03T05:46:28.633064Z",
     "shell.execute_reply": "2025-08-03T05:46:28.632019Z"
    },
    "papermill": {
     "duration": 5.959283,
     "end_time": "2025-08-03T05:46:28.634862",
     "exception": false,
     "start_time": "2025-08-03T05:46:22.675579",
     "status": "completed"
    },
    "tags": []
   },
   "outputs": [],
   "source": [
    "import numpy as np \n",
    "import pandas as pd \n",
    "import matplotlib.pyplot as plt \n",
    "import seaborn as sns \n",
    "from sklearn.model_selection import train_test_split\n",
    "from sklearn.preprocessing import StandardScaler\n",
    "from sklearn.ensemble import RandomForestClassifier\n",
    "from sklearn.metrics import accuracy_score, confusion_matrix, classification_report"
   ]
  },
  {
   "cell_type": "markdown",
   "id": "cf85710d",
   "metadata": {
    "papermill": {
     "duration": 0.003606,
     "end_time": "2025-08-03T05:46:28.642418",
     "exception": false,
     "start_time": "2025-08-03T05:46:28.638812",
     "status": "completed"
    },
    "tags": []
   },
   "source": [
    "# Load Data \n"
   ]
  },
  {
   "cell_type": "code",
   "execution_count": 2,
   "id": "70d4ef7f",
   "metadata": {
    "execution": {
     "iopub.execute_input": "2025-08-03T05:46:28.651474Z",
     "iopub.status.busy": "2025-08-03T05:46:28.651005Z",
     "iopub.status.idle": "2025-08-03T05:46:28.709656Z",
     "shell.execute_reply": "2025-08-03T05:46:28.708664Z"
    },
    "papermill": {
     "duration": 0.065269,
     "end_time": "2025-08-03T05:46:28.711374",
     "exception": false,
     "start_time": "2025-08-03T05:46:28.646105",
     "status": "completed"
    },
    "tags": []
   },
   "outputs": [
    {
     "data": {
      "text/html": [
       "<div>\n",
       "<style scoped>\n",
       "    .dataframe tbody tr th:only-of-type {\n",
       "        vertical-align: middle;\n",
       "    }\n",
       "\n",
       "    .dataframe tbody tr th {\n",
       "        vertical-align: top;\n",
       "    }\n",
       "\n",
       "    .dataframe thead th {\n",
       "        text-align: right;\n",
       "    }\n",
       "</style>\n",
       "<table border=\"1\" class=\"dataframe\">\n",
       "  <thead>\n",
       "    <tr style=\"text-align: right;\">\n",
       "      <th></th>\n",
       "      <th>Gallstone Status</th>\n",
       "      <th>Age</th>\n",
       "      <th>Gender</th>\n",
       "      <th>Comorbidity</th>\n",
       "      <th>Coronary Artery Disease (CAD)</th>\n",
       "      <th>Hypothyroidism</th>\n",
       "      <th>Hyperlipidemia</th>\n",
       "      <th>Diabetes Mellitus (DM)</th>\n",
       "      <th>Height</th>\n",
       "      <th>Weight</th>\n",
       "      <th>...</th>\n",
       "      <th>High Density Lipoprotein (HDL)</th>\n",
       "      <th>Triglyceride</th>\n",
       "      <th>Aspartat Aminotransferaz (AST)</th>\n",
       "      <th>Alanin Aminotransferaz (ALT)</th>\n",
       "      <th>Alkaline Phosphatase (ALP)</th>\n",
       "      <th>Creatinine</th>\n",
       "      <th>Glomerular Filtration Rate (GFR)</th>\n",
       "      <th>C-Reactive Protein (CRP)</th>\n",
       "      <th>Hemoglobin (HGB)</th>\n",
       "      <th>Vitamin D</th>\n",
       "    </tr>\n",
       "  </thead>\n",
       "  <tbody>\n",
       "    <tr>\n",
       "      <th>0</th>\n",
       "      <td>0</td>\n",
       "      <td>50</td>\n",
       "      <td>0</td>\n",
       "      <td>0</td>\n",
       "      <td>0</td>\n",
       "      <td>0</td>\n",
       "      <td>0</td>\n",
       "      <td>0</td>\n",
       "      <td>185</td>\n",
       "      <td>92.8</td>\n",
       "      <td>...</td>\n",
       "      <td>40.0</td>\n",
       "      <td>134.0</td>\n",
       "      <td>20.0</td>\n",
       "      <td>22.0</td>\n",
       "      <td>87.0</td>\n",
       "      <td>0.82</td>\n",
       "      <td>112.47</td>\n",
       "      <td>0.0</td>\n",
       "      <td>16.0</td>\n",
       "      <td>33.0</td>\n",
       "    </tr>\n",
       "    <tr>\n",
       "      <th>1</th>\n",
       "      <td>0</td>\n",
       "      <td>47</td>\n",
       "      <td>0</td>\n",
       "      <td>1</td>\n",
       "      <td>0</td>\n",
       "      <td>0</td>\n",
       "      <td>0</td>\n",
       "      <td>0</td>\n",
       "      <td>176</td>\n",
       "      <td>94.5</td>\n",
       "      <td>...</td>\n",
       "      <td>43.0</td>\n",
       "      <td>103.0</td>\n",
       "      <td>14.0</td>\n",
       "      <td>13.0</td>\n",
       "      <td>46.0</td>\n",
       "      <td>0.87</td>\n",
       "      <td>107.10</td>\n",
       "      <td>0.0</td>\n",
       "      <td>14.4</td>\n",
       "      <td>25.0</td>\n",
       "    </tr>\n",
       "    <tr>\n",
       "      <th>2</th>\n",
       "      <td>0</td>\n",
       "      <td>61</td>\n",
       "      <td>0</td>\n",
       "      <td>0</td>\n",
       "      <td>0</td>\n",
       "      <td>0</td>\n",
       "      <td>0</td>\n",
       "      <td>0</td>\n",
       "      <td>171</td>\n",
       "      <td>91.1</td>\n",
       "      <td>...</td>\n",
       "      <td>43.0</td>\n",
       "      <td>69.0</td>\n",
       "      <td>18.0</td>\n",
       "      <td>14.0</td>\n",
       "      <td>66.0</td>\n",
       "      <td>1.25</td>\n",
       "      <td>65.51</td>\n",
       "      <td>0.0</td>\n",
       "      <td>16.2</td>\n",
       "      <td>30.2</td>\n",
       "    </tr>\n",
       "    <tr>\n",
       "      <th>3</th>\n",
       "      <td>0</td>\n",
       "      <td>41</td>\n",
       "      <td>0</td>\n",
       "      <td>0</td>\n",
       "      <td>0</td>\n",
       "      <td>0</td>\n",
       "      <td>0</td>\n",
       "      <td>0</td>\n",
       "      <td>168</td>\n",
       "      <td>67.7</td>\n",
       "      <td>...</td>\n",
       "      <td>59.0</td>\n",
       "      <td>53.0</td>\n",
       "      <td>20.0</td>\n",
       "      <td>12.0</td>\n",
       "      <td>34.0</td>\n",
       "      <td>1.02</td>\n",
       "      <td>94.10</td>\n",
       "      <td>0.0</td>\n",
       "      <td>15.4</td>\n",
       "      <td>35.4</td>\n",
       "    </tr>\n",
       "    <tr>\n",
       "      <th>4</th>\n",
       "      <td>0</td>\n",
       "      <td>42</td>\n",
       "      <td>0</td>\n",
       "      <td>0</td>\n",
       "      <td>0</td>\n",
       "      <td>0</td>\n",
       "      <td>0</td>\n",
       "      <td>0</td>\n",
       "      <td>178</td>\n",
       "      <td>89.6</td>\n",
       "      <td>...</td>\n",
       "      <td>30.0</td>\n",
       "      <td>326.0</td>\n",
       "      <td>27.0</td>\n",
       "      <td>54.0</td>\n",
       "      <td>71.0</td>\n",
       "      <td>0.82</td>\n",
       "      <td>112.47</td>\n",
       "      <td>0.0</td>\n",
       "      <td>16.8</td>\n",
       "      <td>40.6</td>\n",
       "    </tr>\n",
       "  </tbody>\n",
       "</table>\n",
       "<p>5 rows × 39 columns</p>\n",
       "</div>"
      ],
      "text/plain": [
       "   Gallstone Status  Age  Gender  Comorbidity  Coronary Artery Disease (CAD)  \\\n",
       "0                 0   50       0            0                              0   \n",
       "1                 0   47       0            1                              0   \n",
       "2                 0   61       0            0                              0   \n",
       "3                 0   41       0            0                              0   \n",
       "4                 0   42       0            0                              0   \n",
       "\n",
       "   Hypothyroidism  Hyperlipidemia  Diabetes Mellitus (DM)  Height  Weight  \\\n",
       "0               0               0                       0     185    92.8   \n",
       "1               0               0                       0     176    94.5   \n",
       "2               0               0                       0     171    91.1   \n",
       "3               0               0                       0     168    67.7   \n",
       "4               0               0                       0     178    89.6   \n",
       "\n",
       "   ...  High Density Lipoprotein (HDL)  Triglyceride  \\\n",
       "0  ...                            40.0         134.0   \n",
       "1  ...                            43.0         103.0   \n",
       "2  ...                            43.0          69.0   \n",
       "3  ...                            59.0          53.0   \n",
       "4  ...                            30.0         326.0   \n",
       "\n",
       "   Aspartat Aminotransferaz (AST)  Alanin Aminotransferaz (ALT)  \\\n",
       "0                            20.0                          22.0   \n",
       "1                            14.0                          13.0   \n",
       "2                            18.0                          14.0   \n",
       "3                            20.0                          12.0   \n",
       "4                            27.0                          54.0   \n",
       "\n",
       "   Alkaline Phosphatase (ALP)  Creatinine  Glomerular Filtration Rate (GFR)  \\\n",
       "0                        87.0        0.82                            112.47   \n",
       "1                        46.0        0.87                            107.10   \n",
       "2                        66.0        1.25                             65.51   \n",
       "3                        34.0        1.02                             94.10   \n",
       "4                        71.0        0.82                            112.47   \n",
       "\n",
       "   C-Reactive Protein (CRP)  Hemoglobin (HGB)  Vitamin D  \n",
       "0                       0.0              16.0       33.0  \n",
       "1                       0.0              14.4       25.0  \n",
       "2                       0.0              16.2       30.2  \n",
       "3                       0.0              15.4       35.4  \n",
       "4                       0.0              16.8       40.6  \n",
       "\n",
       "[5 rows x 39 columns]"
      ]
     },
     "execution_count": 2,
     "metadata": {},
     "output_type": "execute_result"
    }
   ],
   "source": [
    "df = pd.read_csv(\"/kaggle/input/gallstone-dataset-uci/gallstone_.csv\")\n",
    "df.head()"
   ]
  },
  {
   "cell_type": "markdown",
   "id": "51e3ab97",
   "metadata": {
    "papermill": {
     "duration": 0.003899,
     "end_time": "2025-08-03T05:46:28.719588",
     "exception": false,
     "start_time": "2025-08-03T05:46:28.715689",
     "status": "completed"
    },
    "tags": []
   },
   "source": [
    "# Data Analysis "
   ]
  },
  {
   "cell_type": "code",
   "execution_count": 3,
   "id": "0d4c5702",
   "metadata": {
    "execution": {
     "iopub.execute_input": "2025-08-03T05:46:28.729107Z",
     "iopub.status.busy": "2025-08-03T05:46:28.728771Z",
     "iopub.status.idle": "2025-08-03T05:46:28.735257Z",
     "shell.execute_reply": "2025-08-03T05:46:28.734160Z"
    },
    "papermill": {
     "duration": 0.013274,
     "end_time": "2025-08-03T05:46:28.736895",
     "exception": false,
     "start_time": "2025-08-03T05:46:28.723621",
     "status": "completed"
    },
    "tags": []
   },
   "outputs": [
    {
     "data": {
      "text/plain": [
       "(319, 39)"
      ]
     },
     "execution_count": 3,
     "metadata": {},
     "output_type": "execute_result"
    }
   ],
   "source": [
    "df.shape"
   ]
  },
  {
   "cell_type": "code",
   "execution_count": 4,
   "id": "ecb66b27",
   "metadata": {
    "execution": {
     "iopub.execute_input": "2025-08-03T05:46:28.747373Z",
     "iopub.status.busy": "2025-08-03T05:46:28.747008Z",
     "iopub.status.idle": "2025-08-03T05:46:28.754616Z",
     "shell.execute_reply": "2025-08-03T05:46:28.753625Z"
    },
    "papermill": {
     "duration": 0.014547,
     "end_time": "2025-08-03T05:46:28.756223",
     "exception": false,
     "start_time": "2025-08-03T05:46:28.741676",
     "status": "completed"
    },
    "tags": []
   },
   "outputs": [
    {
     "data": {
      "text/plain": [
       "Gallstone Status                                    int64\n",
       "Age                                                 int64\n",
       "Gender                                              int64\n",
       "Comorbidity                                         int64\n",
       "Coronary Artery Disease (CAD)                       int64\n",
       "Hypothyroidism                                      int64\n",
       "Hyperlipidemia                                      int64\n",
       "Diabetes Mellitus (DM)                              int64\n",
       "Height                                              int64\n",
       "Weight                                            float64\n",
       "Body Mass Index (BMI)                             float64\n",
       "Total Body Water (TBW)                            float64\n",
       "Extracellular Water (ECW)                         float64\n",
       "Intracellular Water (ICW)                         float64\n",
       "Extracellular Fluid/Total Body Water (ECF/TBW)    float64\n",
       "Total Body Fat Ratio (TBFR) (%)                   float64\n",
       "Lean Mass (LM) (%)                                float64\n",
       "Body Protein Content (Protein) (%)                float64\n",
       "Visceral Fat Rating (VFR)                           int64\n",
       "Bone Mass (BM)                                    float64\n",
       "Muscle Mass (MM)                                  float64\n",
       "Obesity (%)                                       float64\n",
       "Total Fat Content (TFC)                           float64\n",
       "Visceral Fat Area (VFA)                           float64\n",
       "Visceral Muscle Area (VMA) (Kg)                   float64\n",
       "Hepatic Fat Accumulation (HFA)                      int64\n",
       "Glucose                                           float64\n",
       "Total Cholesterol (TC)                            float64\n",
       "Low Density Lipoprotein (LDL)                     float64\n",
       "High Density Lipoprotein (HDL)                    float64\n",
       "Triglyceride                                      float64\n",
       "Aspartat Aminotransferaz (AST)                    float64\n",
       "Alanin Aminotransferaz (ALT)                      float64\n",
       "Alkaline Phosphatase (ALP)                        float64\n",
       "Creatinine                                        float64\n",
       "Glomerular Filtration Rate (GFR)                  float64\n",
       "C-Reactive Protein (CRP)                          float64\n",
       "Hemoglobin (HGB)                                  float64\n",
       "Vitamin D                                         float64\n",
       "dtype: object"
      ]
     },
     "execution_count": 4,
     "metadata": {},
     "output_type": "execute_result"
    }
   ],
   "source": [
    "df.dtypes"
   ]
  },
  {
   "cell_type": "code",
   "execution_count": 5,
   "id": "977b7816",
   "metadata": {
    "execution": {
     "iopub.execute_input": "2025-08-03T05:46:28.767006Z",
     "iopub.status.busy": "2025-08-03T05:46:28.766705Z",
     "iopub.status.idle": "2025-08-03T05:46:28.791818Z",
     "shell.execute_reply": "2025-08-03T05:46:28.790540Z"
    },
    "papermill": {
     "duration": 0.031899,
     "end_time": "2025-08-03T05:46:28.793377",
     "exception": false,
     "start_time": "2025-08-03T05:46:28.761478",
     "status": "completed"
    },
    "tags": []
   },
   "outputs": [
    {
     "name": "stdout",
     "output_type": "stream",
     "text": [
      "<class 'pandas.core.frame.DataFrame'>\n",
      "RangeIndex: 319 entries, 0 to 318\n",
      "Data columns (total 39 columns):\n",
      " #   Column                                          Non-Null Count  Dtype  \n",
      "---  ------                                          --------------  -----  \n",
      " 0   Gallstone Status                                319 non-null    int64  \n",
      " 1   Age                                             319 non-null    int64  \n",
      " 2   Gender                                          319 non-null    int64  \n",
      " 3   Comorbidity                                     319 non-null    int64  \n",
      " 4   Coronary Artery Disease (CAD)                   319 non-null    int64  \n",
      " 5   Hypothyroidism                                  319 non-null    int64  \n",
      " 6   Hyperlipidemia                                  319 non-null    int64  \n",
      " 7   Diabetes Mellitus (DM)                          319 non-null    int64  \n",
      " 8   Height                                          319 non-null    int64  \n",
      " 9   Weight                                          319 non-null    float64\n",
      " 10  Body Mass Index (BMI)                           319 non-null    float64\n",
      " 11  Total Body Water (TBW)                          319 non-null    float64\n",
      " 12  Extracellular Water (ECW)                       319 non-null    float64\n",
      " 13  Intracellular Water (ICW)                       319 non-null    float64\n",
      " 14  Extracellular Fluid/Total Body Water (ECF/TBW)  319 non-null    float64\n",
      " 15  Total Body Fat Ratio (TBFR) (%)                 319 non-null    float64\n",
      " 16  Lean Mass (LM) (%)                              319 non-null    float64\n",
      " 17  Body Protein Content (Protein) (%)              319 non-null    float64\n",
      " 18  Visceral Fat Rating (VFR)                       319 non-null    int64  \n",
      " 19  Bone Mass (BM)                                  319 non-null    float64\n",
      " 20  Muscle Mass (MM)                                319 non-null    float64\n",
      " 21  Obesity (%)                                     319 non-null    float64\n",
      " 22  Total Fat Content (TFC)                         319 non-null    float64\n",
      " 23  Visceral Fat Area (VFA)                         319 non-null    float64\n",
      " 24  Visceral Muscle Area (VMA) (Kg)                 319 non-null    float64\n",
      " 25  Hepatic Fat Accumulation (HFA)                  319 non-null    int64  \n",
      " 26  Glucose                                         319 non-null    float64\n",
      " 27  Total Cholesterol (TC)                          319 non-null    float64\n",
      " 28  Low Density Lipoprotein (LDL)                   319 non-null    float64\n",
      " 29  High Density Lipoprotein (HDL)                  319 non-null    float64\n",
      " 30  Triglyceride                                    319 non-null    float64\n",
      " 31  Aspartat Aminotransferaz (AST)                  319 non-null    float64\n",
      " 32  Alanin Aminotransferaz (ALT)                    319 non-null    float64\n",
      " 33  Alkaline Phosphatase (ALP)                      319 non-null    float64\n",
      " 34  Creatinine                                      319 non-null    float64\n",
      " 35  Glomerular Filtration Rate (GFR)                319 non-null    float64\n",
      " 36  C-Reactive Protein (CRP)                        319 non-null    float64\n",
      " 37  Hemoglobin (HGB)                                319 non-null    float64\n",
      " 38  Vitamin D                                       319 non-null    float64\n",
      "dtypes: float64(28), int64(11)\n",
      "memory usage: 97.3 KB\n"
     ]
    }
   ],
   "source": [
    "df.info()"
   ]
  },
  {
   "cell_type": "code",
   "execution_count": 6,
   "id": "4b7d4334",
   "metadata": {
    "execution": {
     "iopub.execute_input": "2025-08-03T05:46:28.803632Z",
     "iopub.status.busy": "2025-08-03T05:46:28.803346Z",
     "iopub.status.idle": "2025-08-03T05:46:28.882108Z",
     "shell.execute_reply": "2025-08-03T05:46:28.880961Z"
    },
    "papermill": {
     "duration": 0.085883,
     "end_time": "2025-08-03T05:46:28.883847",
     "exception": false,
     "start_time": "2025-08-03T05:46:28.797964",
     "status": "completed"
    },
    "tags": []
   },
   "outputs": [
    {
     "data": {
      "text/html": [
       "<div>\n",
       "<style scoped>\n",
       "    .dataframe tbody tr th:only-of-type {\n",
       "        vertical-align: middle;\n",
       "    }\n",
       "\n",
       "    .dataframe tbody tr th {\n",
       "        vertical-align: top;\n",
       "    }\n",
       "\n",
       "    .dataframe thead th {\n",
       "        text-align: right;\n",
       "    }\n",
       "</style>\n",
       "<table border=\"1\" class=\"dataframe\">\n",
       "  <thead>\n",
       "    <tr style=\"text-align: right;\">\n",
       "      <th></th>\n",
       "      <th>Gallstone Status</th>\n",
       "      <th>Age</th>\n",
       "      <th>Gender</th>\n",
       "      <th>Comorbidity</th>\n",
       "      <th>Coronary Artery Disease (CAD)</th>\n",
       "      <th>Hypothyroidism</th>\n",
       "      <th>Hyperlipidemia</th>\n",
       "      <th>Diabetes Mellitus (DM)</th>\n",
       "      <th>Height</th>\n",
       "      <th>Weight</th>\n",
       "      <th>...</th>\n",
       "      <th>High Density Lipoprotein (HDL)</th>\n",
       "      <th>Triglyceride</th>\n",
       "      <th>Aspartat Aminotransferaz (AST)</th>\n",
       "      <th>Alanin Aminotransferaz (ALT)</th>\n",
       "      <th>Alkaline Phosphatase (ALP)</th>\n",
       "      <th>Creatinine</th>\n",
       "      <th>Glomerular Filtration Rate (GFR)</th>\n",
       "      <th>C-Reactive Protein (CRP)</th>\n",
       "      <th>Hemoglobin (HGB)</th>\n",
       "      <th>Vitamin D</th>\n",
       "    </tr>\n",
       "  </thead>\n",
       "  <tbody>\n",
       "    <tr>\n",
       "      <th>count</th>\n",
       "      <td>319.000000</td>\n",
       "      <td>319.000000</td>\n",
       "      <td>319.000000</td>\n",
       "      <td>319.000000</td>\n",
       "      <td>319.000000</td>\n",
       "      <td>319.000000</td>\n",
       "      <td>319.000000</td>\n",
       "      <td>319.000000</td>\n",
       "      <td>319.00000</td>\n",
       "      <td>319.000000</td>\n",
       "      <td>...</td>\n",
       "      <td>319.000000</td>\n",
       "      <td>319.000000</td>\n",
       "      <td>319.000000</td>\n",
       "      <td>319.000000</td>\n",
       "      <td>319.000000</td>\n",
       "      <td>319.000000</td>\n",
       "      <td>319.000000</td>\n",
       "      <td>319.000000</td>\n",
       "      <td>319.000000</td>\n",
       "      <td>319.000000</td>\n",
       "    </tr>\n",
       "    <tr>\n",
       "      <th>mean</th>\n",
       "      <td>0.495298</td>\n",
       "      <td>48.068966</td>\n",
       "      <td>0.492163</td>\n",
       "      <td>0.335423</td>\n",
       "      <td>0.037618</td>\n",
       "      <td>0.028213</td>\n",
       "      <td>0.025078</td>\n",
       "      <td>0.134796</td>\n",
       "      <td>167.15674</td>\n",
       "      <td>80.564890</td>\n",
       "      <td>...</td>\n",
       "      <td>49.475549</td>\n",
       "      <td>144.502163</td>\n",
       "      <td>21.684953</td>\n",
       "      <td>26.855799</td>\n",
       "      <td>73.112539</td>\n",
       "      <td>0.800611</td>\n",
       "      <td>100.818903</td>\n",
       "      <td>1.853856</td>\n",
       "      <td>14.418182</td>\n",
       "      <td>21.401411</td>\n",
       "    </tr>\n",
       "    <tr>\n",
       "      <th>std</th>\n",
       "      <td>0.500763</td>\n",
       "      <td>12.114558</td>\n",
       "      <td>0.500724</td>\n",
       "      <td>0.517340</td>\n",
       "      <td>0.190568</td>\n",
       "      <td>0.165841</td>\n",
       "      <td>0.156609</td>\n",
       "      <td>0.342042</td>\n",
       "      <td>10.05303</td>\n",
       "      <td>15.709069</td>\n",
       "      <td>...</td>\n",
       "      <td>17.718701</td>\n",
       "      <td>97.904493</td>\n",
       "      <td>16.697605</td>\n",
       "      <td>27.884413</td>\n",
       "      <td>24.181069</td>\n",
       "      <td>0.176433</td>\n",
       "      <td>16.971396</td>\n",
       "      <td>4.989591</td>\n",
       "      <td>1.775815</td>\n",
       "      <td>9.981659</td>\n",
       "    </tr>\n",
       "    <tr>\n",
       "      <th>min</th>\n",
       "      <td>0.000000</td>\n",
       "      <td>20.000000</td>\n",
       "      <td>0.000000</td>\n",
       "      <td>0.000000</td>\n",
       "      <td>0.000000</td>\n",
       "      <td>0.000000</td>\n",
       "      <td>0.000000</td>\n",
       "      <td>0.000000</td>\n",
       "      <td>145.00000</td>\n",
       "      <td>42.900000</td>\n",
       "      <td>...</td>\n",
       "      <td>25.000000</td>\n",
       "      <td>1.390000</td>\n",
       "      <td>8.000000</td>\n",
       "      <td>3.000000</td>\n",
       "      <td>7.000000</td>\n",
       "      <td>0.460000</td>\n",
       "      <td>10.600000</td>\n",
       "      <td>0.000000</td>\n",
       "      <td>8.500000</td>\n",
       "      <td>3.500000</td>\n",
       "    </tr>\n",
       "    <tr>\n",
       "      <th>25%</th>\n",
       "      <td>0.000000</td>\n",
       "      <td>38.500000</td>\n",
       "      <td>0.000000</td>\n",
       "      <td>0.000000</td>\n",
       "      <td>0.000000</td>\n",
       "      <td>0.000000</td>\n",
       "      <td>0.000000</td>\n",
       "      <td>0.000000</td>\n",
       "      <td>159.50000</td>\n",
       "      <td>69.600000</td>\n",
       "      <td>...</td>\n",
       "      <td>40.000000</td>\n",
       "      <td>83.000000</td>\n",
       "      <td>15.000000</td>\n",
       "      <td>14.250000</td>\n",
       "      <td>58.000000</td>\n",
       "      <td>0.650000</td>\n",
       "      <td>94.170000</td>\n",
       "      <td>0.000000</td>\n",
       "      <td>13.300000</td>\n",
       "      <td>13.250000</td>\n",
       "    </tr>\n",
       "    <tr>\n",
       "      <th>50%</th>\n",
       "      <td>0.000000</td>\n",
       "      <td>49.000000</td>\n",
       "      <td>0.000000</td>\n",
       "      <td>0.000000</td>\n",
       "      <td>0.000000</td>\n",
       "      <td>0.000000</td>\n",
       "      <td>0.000000</td>\n",
       "      <td>0.000000</td>\n",
       "      <td>168.00000</td>\n",
       "      <td>78.800000</td>\n",
       "      <td>...</td>\n",
       "      <td>46.500000</td>\n",
       "      <td>119.000000</td>\n",
       "      <td>18.000000</td>\n",
       "      <td>19.000000</td>\n",
       "      <td>71.000000</td>\n",
       "      <td>0.790000</td>\n",
       "      <td>104.000000</td>\n",
       "      <td>0.215000</td>\n",
       "      <td>14.400000</td>\n",
       "      <td>22.000000</td>\n",
       "    </tr>\n",
       "    <tr>\n",
       "      <th>75%</th>\n",
       "      <td>1.000000</td>\n",
       "      <td>56.000000</td>\n",
       "      <td>1.000000</td>\n",
       "      <td>1.000000</td>\n",
       "      <td>0.000000</td>\n",
       "      <td>0.000000</td>\n",
       "      <td>0.000000</td>\n",
       "      <td>0.000000</td>\n",
       "      <td>175.00000</td>\n",
       "      <td>91.250000</td>\n",
       "      <td>...</td>\n",
       "      <td>56.000000</td>\n",
       "      <td>172.000000</td>\n",
       "      <td>23.000000</td>\n",
       "      <td>30.000000</td>\n",
       "      <td>86.000000</td>\n",
       "      <td>0.920000</td>\n",
       "      <td>110.745000</td>\n",
       "      <td>1.615000</td>\n",
       "      <td>15.700000</td>\n",
       "      <td>28.060000</td>\n",
       "    </tr>\n",
       "    <tr>\n",
       "      <th>max</th>\n",
       "      <td>1.000000</td>\n",
       "      <td>96.000000</td>\n",
       "      <td>1.000000</td>\n",
       "      <td>3.000000</td>\n",
       "      <td>1.000000</td>\n",
       "      <td>1.000000</td>\n",
       "      <td>1.000000</td>\n",
       "      <td>1.000000</td>\n",
       "      <td>191.00000</td>\n",
       "      <td>143.500000</td>\n",
       "      <td>...</td>\n",
       "      <td>273.000000</td>\n",
       "      <td>838.000000</td>\n",
       "      <td>195.000000</td>\n",
       "      <td>372.000000</td>\n",
       "      <td>197.000000</td>\n",
       "      <td>1.460000</td>\n",
       "      <td>132.000000</td>\n",
       "      <td>43.400000</td>\n",
       "      <td>18.800000</td>\n",
       "      <td>53.100000</td>\n",
       "    </tr>\n",
       "  </tbody>\n",
       "</table>\n",
       "<p>8 rows × 39 columns</p>\n",
       "</div>"
      ],
      "text/plain": [
       "       Gallstone Status         Age      Gender  Comorbidity  \\\n",
       "count        319.000000  319.000000  319.000000   319.000000   \n",
       "mean           0.495298   48.068966    0.492163     0.335423   \n",
       "std            0.500763   12.114558    0.500724     0.517340   \n",
       "min            0.000000   20.000000    0.000000     0.000000   \n",
       "25%            0.000000   38.500000    0.000000     0.000000   \n",
       "50%            0.000000   49.000000    0.000000     0.000000   \n",
       "75%            1.000000   56.000000    1.000000     1.000000   \n",
       "max            1.000000   96.000000    1.000000     3.000000   \n",
       "\n",
       "       Coronary Artery Disease (CAD)  Hypothyroidism  Hyperlipidemia  \\\n",
       "count                     319.000000      319.000000      319.000000   \n",
       "mean                        0.037618        0.028213        0.025078   \n",
       "std                         0.190568        0.165841        0.156609   \n",
       "min                         0.000000        0.000000        0.000000   \n",
       "25%                         0.000000        0.000000        0.000000   \n",
       "50%                         0.000000        0.000000        0.000000   \n",
       "75%                         0.000000        0.000000        0.000000   \n",
       "max                         1.000000        1.000000        1.000000   \n",
       "\n",
       "       Diabetes Mellitus (DM)     Height      Weight  ...  \\\n",
       "count              319.000000  319.00000  319.000000  ...   \n",
       "mean                 0.134796  167.15674   80.564890  ...   \n",
       "std                  0.342042   10.05303   15.709069  ...   \n",
       "min                  0.000000  145.00000   42.900000  ...   \n",
       "25%                  0.000000  159.50000   69.600000  ...   \n",
       "50%                  0.000000  168.00000   78.800000  ...   \n",
       "75%                  0.000000  175.00000   91.250000  ...   \n",
       "max                  1.000000  191.00000  143.500000  ...   \n",
       "\n",
       "       High Density Lipoprotein (HDL)  Triglyceride  \\\n",
       "count                      319.000000    319.000000   \n",
       "mean                        49.475549    144.502163   \n",
       "std                         17.718701     97.904493   \n",
       "min                         25.000000      1.390000   \n",
       "25%                         40.000000     83.000000   \n",
       "50%                         46.500000    119.000000   \n",
       "75%                         56.000000    172.000000   \n",
       "max                        273.000000    838.000000   \n",
       "\n",
       "       Aspartat Aminotransferaz (AST)  Alanin Aminotransferaz (ALT)  \\\n",
       "count                      319.000000                    319.000000   \n",
       "mean                        21.684953                     26.855799   \n",
       "std                         16.697605                     27.884413   \n",
       "min                          8.000000                      3.000000   \n",
       "25%                         15.000000                     14.250000   \n",
       "50%                         18.000000                     19.000000   \n",
       "75%                         23.000000                     30.000000   \n",
       "max                        195.000000                    372.000000   \n",
       "\n",
       "       Alkaline Phosphatase (ALP)  Creatinine  \\\n",
       "count                  319.000000  319.000000   \n",
       "mean                    73.112539    0.800611   \n",
       "std                     24.181069    0.176433   \n",
       "min                      7.000000    0.460000   \n",
       "25%                     58.000000    0.650000   \n",
       "50%                     71.000000    0.790000   \n",
       "75%                     86.000000    0.920000   \n",
       "max                    197.000000    1.460000   \n",
       "\n",
       "       Glomerular Filtration Rate (GFR)  C-Reactive Protein (CRP)  \\\n",
       "count                        319.000000                319.000000   \n",
       "mean                         100.818903                  1.853856   \n",
       "std                           16.971396                  4.989591   \n",
       "min                           10.600000                  0.000000   \n",
       "25%                           94.170000                  0.000000   \n",
       "50%                          104.000000                  0.215000   \n",
       "75%                          110.745000                  1.615000   \n",
       "max                          132.000000                 43.400000   \n",
       "\n",
       "       Hemoglobin (HGB)   Vitamin D  \n",
       "count        319.000000  319.000000  \n",
       "mean          14.418182   21.401411  \n",
       "std            1.775815    9.981659  \n",
       "min            8.500000    3.500000  \n",
       "25%           13.300000   13.250000  \n",
       "50%           14.400000   22.000000  \n",
       "75%           15.700000   28.060000  \n",
       "max           18.800000   53.100000  \n",
       "\n",
       "[8 rows x 39 columns]"
      ]
     },
     "execution_count": 6,
     "metadata": {},
     "output_type": "execute_result"
    }
   ],
   "source": [
    "df.describe()"
   ]
  },
  {
   "cell_type": "code",
   "execution_count": 7,
   "id": "b0d4790f",
   "metadata": {
    "execution": {
     "iopub.execute_input": "2025-08-03T05:46:28.894851Z",
     "iopub.status.busy": "2025-08-03T05:46:28.894561Z",
     "iopub.status.idle": "2025-08-03T05:46:28.901817Z",
     "shell.execute_reply": "2025-08-03T05:46:28.901017Z"
    },
    "papermill": {
     "duration": 0.014454,
     "end_time": "2025-08-03T05:46:28.903337",
     "exception": false,
     "start_time": "2025-08-03T05:46:28.888883",
     "status": "completed"
    },
    "tags": []
   },
   "outputs": [
    {
     "data": {
      "text/plain": [
       "Gallstone Status                                  0\n",
       "Age                                               0\n",
       "Gender                                            0\n",
       "Comorbidity                                       0\n",
       "Coronary Artery Disease (CAD)                     0\n",
       "Hypothyroidism                                    0\n",
       "Hyperlipidemia                                    0\n",
       "Diabetes Mellitus (DM)                            0\n",
       "Height                                            0\n",
       "Weight                                            0\n",
       "Body Mass Index (BMI)                             0\n",
       "Total Body Water (TBW)                            0\n",
       "Extracellular Water (ECW)                         0\n",
       "Intracellular Water (ICW)                         0\n",
       "Extracellular Fluid/Total Body Water (ECF/TBW)    0\n",
       "Total Body Fat Ratio (TBFR) (%)                   0\n",
       "Lean Mass (LM) (%)                                0\n",
       "Body Protein Content (Protein) (%)                0\n",
       "Visceral Fat Rating (VFR)                         0\n",
       "Bone Mass (BM)                                    0\n",
       "Muscle Mass (MM)                                  0\n",
       "Obesity (%)                                       0\n",
       "Total Fat Content (TFC)                           0\n",
       "Visceral Fat Area (VFA)                           0\n",
       "Visceral Muscle Area (VMA) (Kg)                   0\n",
       "Hepatic Fat Accumulation (HFA)                    0\n",
       "Glucose                                           0\n",
       "Total Cholesterol (TC)                            0\n",
       "Low Density Lipoprotein (LDL)                     0\n",
       "High Density Lipoprotein (HDL)                    0\n",
       "Triglyceride                                      0\n",
       "Aspartat Aminotransferaz (AST)                    0\n",
       "Alanin Aminotransferaz (ALT)                      0\n",
       "Alkaline Phosphatase (ALP)                        0\n",
       "Creatinine                                        0\n",
       "Glomerular Filtration Rate (GFR)                  0\n",
       "C-Reactive Protein (CRP)                          0\n",
       "Hemoglobin (HGB)                                  0\n",
       "Vitamin D                                         0\n",
       "dtype: int64"
      ]
     },
     "execution_count": 7,
     "metadata": {},
     "output_type": "execute_result"
    }
   ],
   "source": [
    "df.isnull().sum()"
   ]
  },
  {
   "cell_type": "code",
   "execution_count": 8,
   "id": "73f336c2",
   "metadata": {
    "execution": {
     "iopub.execute_input": "2025-08-03T05:46:28.915441Z",
     "iopub.status.busy": "2025-08-03T05:46:28.915075Z",
     "iopub.status.idle": "2025-08-03T05:46:28.921422Z",
     "shell.execute_reply": "2025-08-03T05:46:28.920561Z"
    },
    "papermill": {
     "duration": 0.014476,
     "end_time": "2025-08-03T05:46:28.922980",
     "exception": false,
     "start_time": "2025-08-03T05:46:28.908504",
     "status": "completed"
    },
    "tags": []
   },
   "outputs": [
    {
     "data": {
      "text/plain": [
       "Index(['Gallstone Status', 'Age', 'Gender', 'Comorbidity',\n",
       "       'Coronary Artery Disease (CAD)', 'Hypothyroidism', 'Hyperlipidemia',\n",
       "       'Diabetes Mellitus (DM)', 'Height', 'Weight', 'Body Mass Index (BMI)',\n",
       "       'Total Body Water (TBW)', 'Extracellular Water (ECW)',\n",
       "       'Intracellular Water (ICW)',\n",
       "       'Extracellular Fluid/Total Body Water (ECF/TBW)',\n",
       "       'Total Body Fat Ratio (TBFR) (%)', 'Lean Mass (LM) (%)',\n",
       "       'Body Protein Content (Protein) (%)', 'Visceral Fat Rating (VFR)',\n",
       "       'Bone Mass (BM)', 'Muscle Mass (MM)', 'Obesity (%)',\n",
       "       'Total Fat Content (TFC)', 'Visceral Fat Area (VFA)',\n",
       "       'Visceral Muscle Area (VMA) (Kg)', 'Hepatic Fat Accumulation (HFA)',\n",
       "       'Glucose', 'Total Cholesterol (TC)', 'Low Density Lipoprotein (LDL)',\n",
       "       'High Density Lipoprotein (HDL)', 'Triglyceride',\n",
       "       'Aspartat Aminotransferaz (AST)', 'Alanin Aminotransferaz (ALT)',\n",
       "       'Alkaline Phosphatase (ALP)', 'Creatinine',\n",
       "       'Glomerular Filtration Rate (GFR)', 'C-Reactive Protein (CRP)',\n",
       "       'Hemoglobin (HGB)', 'Vitamin D'],\n",
       "      dtype='object')"
      ]
     },
     "execution_count": 8,
     "metadata": {},
     "output_type": "execute_result"
    }
   ],
   "source": [
    "df.columns"
   ]
  },
  {
   "cell_type": "markdown",
   "id": "6f0668c8",
   "metadata": {
    "papermill": {
     "duration": 0.004789,
     "end_time": "2025-08-03T05:46:28.933449",
     "exception": false,
     "start_time": "2025-08-03T05:46:28.928660",
     "status": "completed"
    },
    "tags": []
   },
   "source": [
    "# Data Preprocessing and Splitting"
   ]
  },
  {
   "cell_type": "code",
   "execution_count": 9,
   "id": "d2cf4f77",
   "metadata": {
    "execution": {
     "iopub.execute_input": "2025-08-03T05:46:28.944410Z",
     "iopub.status.busy": "2025-08-03T05:46:28.944052Z",
     "iopub.status.idle": "2025-08-03T05:46:28.949151Z",
     "shell.execute_reply": "2025-08-03T05:46:28.948386Z"
    },
    "papermill": {
     "duration": 0.012427,
     "end_time": "2025-08-03T05:46:28.950764",
     "exception": false,
     "start_time": "2025-08-03T05:46:28.938337",
     "status": "completed"
    },
    "tags": []
   },
   "outputs": [],
   "source": [
    "df.rename(columns={\"Gallstone Status\": \"Gallstone_status\"}, inplace=True)"
   ]
  },
  {
   "cell_type": "code",
   "execution_count": 10,
   "id": "b6ae5590",
   "metadata": {
    "execution": {
     "iopub.execute_input": "2025-08-03T05:46:28.962136Z",
     "iopub.status.busy": "2025-08-03T05:46:28.961843Z",
     "iopub.status.idle": "2025-08-03T05:46:28.967544Z",
     "shell.execute_reply": "2025-08-03T05:46:28.966614Z"
    },
    "papermill": {
     "duration": 0.013206,
     "end_time": "2025-08-03T05:46:28.969231",
     "exception": false,
     "start_time": "2025-08-03T05:46:28.956025",
     "status": "completed"
    },
    "tags": []
   },
   "outputs": [],
   "source": [
    "X = df.drop(\"Gallstone_status\",axis=1)\n",
    "y = df[\"Gallstone_status\"]"
   ]
  },
  {
   "cell_type": "code",
   "execution_count": 11,
   "id": "19b0b978",
   "metadata": {
    "execution": {
     "iopub.execute_input": "2025-08-03T05:46:28.981304Z",
     "iopub.status.busy": "2025-08-03T05:46:28.980558Z",
     "iopub.status.idle": "2025-08-03T05:46:28.988788Z",
     "shell.execute_reply": "2025-08-03T05:46:28.987955Z"
    },
    "papermill": {
     "duration": 0.016019,
     "end_time": "2025-08-03T05:46:28.990372",
     "exception": false,
     "start_time": "2025-08-03T05:46:28.974353",
     "status": "completed"
    },
    "tags": []
   },
   "outputs": [],
   "source": [
    "X_train,X_test,y_train,y_test = train_test_split(X,y,test_size=0.2,random_state=42)"
   ]
  },
  {
   "cell_type": "code",
   "execution_count": 12,
   "id": "b1522eb1",
   "metadata": {
    "execution": {
     "iopub.execute_input": "2025-08-03T05:46:29.001554Z",
     "iopub.status.busy": "2025-08-03T05:46:29.001265Z",
     "iopub.status.idle": "2025-08-03T05:46:29.005711Z",
     "shell.execute_reply": "2025-08-03T05:46:29.004663Z"
    },
    "papermill": {
     "duration": 0.011587,
     "end_time": "2025-08-03T05:46:29.007034",
     "exception": false,
     "start_time": "2025-08-03T05:46:28.995447",
     "status": "completed"
    },
    "tags": []
   },
   "outputs": [],
   "source": [
    "sc = StandardScaler()"
   ]
  },
  {
   "cell_type": "code",
   "execution_count": 13,
   "id": "21ffd83f",
   "metadata": {
    "execution": {
     "iopub.execute_input": "2025-08-03T05:46:29.018354Z",
     "iopub.status.busy": "2025-08-03T05:46:29.017989Z",
     "iopub.status.idle": "2025-08-03T05:46:29.066156Z",
     "shell.execute_reply": "2025-08-03T05:46:29.065241Z"
    },
    "papermill": {
     "duration": 0.055718,
     "end_time": "2025-08-03T05:46:29.067861",
     "exception": false,
     "start_time": "2025-08-03T05:46:29.012143",
     "status": "completed"
    },
    "tags": []
   },
   "outputs": [],
   "source": [
    "X_train_scaled = sc.fit_transform(X_train)\n",
    "X_test_scaled = sc.transform(X_test)"
   ]
  },
  {
   "cell_type": "markdown",
   "id": "098ccf29",
   "metadata": {
    "papermill": {
     "duration": 0.004669,
     "end_time": "2025-08-03T05:46:29.077595",
     "exception": false,
     "start_time": "2025-08-03T05:46:29.072926",
     "status": "completed"
    },
    "tags": []
   },
   "source": [
    "# Model Implementation "
   ]
  },
  {
   "cell_type": "code",
   "execution_count": 14,
   "id": "d1a44a6b",
   "metadata": {
    "execution": {
     "iopub.execute_input": "2025-08-03T05:46:29.088690Z",
     "iopub.status.busy": "2025-08-03T05:46:29.088351Z",
     "iopub.status.idle": "2025-08-03T05:46:30.004924Z",
     "shell.execute_reply": "2025-08-03T05:46:30.003995Z"
    },
    "papermill": {
     "duration": 0.92413,
     "end_time": "2025-08-03T05:46:30.006744",
     "exception": false,
     "start_time": "2025-08-03T05:46:29.082614",
     "status": "completed"
    },
    "tags": []
   },
   "outputs": [
    {
     "data": {
      "text/html": [
       "<style>#sk-container-id-1 {color: black;background-color: white;}#sk-container-id-1 pre{padding: 0;}#sk-container-id-1 div.sk-toggleable {background-color: white;}#sk-container-id-1 label.sk-toggleable__label {cursor: pointer;display: block;width: 100%;margin-bottom: 0;padding: 0.3em;box-sizing: border-box;text-align: center;}#sk-container-id-1 label.sk-toggleable__label-arrow:before {content: \"▸\";float: left;margin-right: 0.25em;color: #696969;}#sk-container-id-1 label.sk-toggleable__label-arrow:hover:before {color: black;}#sk-container-id-1 div.sk-estimator:hover label.sk-toggleable__label-arrow:before {color: black;}#sk-container-id-1 div.sk-toggleable__content {max-height: 0;max-width: 0;overflow: hidden;text-align: left;background-color: #f0f8ff;}#sk-container-id-1 div.sk-toggleable__content pre {margin: 0.2em;color: black;border-radius: 0.25em;background-color: #f0f8ff;}#sk-container-id-1 input.sk-toggleable__control:checked~div.sk-toggleable__content {max-height: 200px;max-width: 100%;overflow: auto;}#sk-container-id-1 input.sk-toggleable__control:checked~label.sk-toggleable__label-arrow:before {content: \"▾\";}#sk-container-id-1 div.sk-estimator input.sk-toggleable__control:checked~label.sk-toggleable__label {background-color: #d4ebff;}#sk-container-id-1 div.sk-label input.sk-toggleable__control:checked~label.sk-toggleable__label {background-color: #d4ebff;}#sk-container-id-1 input.sk-hidden--visually {border: 0;clip: rect(1px 1px 1px 1px);clip: rect(1px, 1px, 1px, 1px);height: 1px;margin: -1px;overflow: hidden;padding: 0;position: absolute;width: 1px;}#sk-container-id-1 div.sk-estimator {font-family: monospace;background-color: #f0f8ff;border: 1px dotted black;border-radius: 0.25em;box-sizing: border-box;margin-bottom: 0.5em;}#sk-container-id-1 div.sk-estimator:hover {background-color: #d4ebff;}#sk-container-id-1 div.sk-parallel-item::after {content: \"\";width: 100%;border-bottom: 1px solid gray;flex-grow: 1;}#sk-container-id-1 div.sk-label:hover label.sk-toggleable__label {background-color: #d4ebff;}#sk-container-id-1 div.sk-serial::before {content: \"\";position: absolute;border-left: 1px solid gray;box-sizing: border-box;top: 0;bottom: 0;left: 50%;z-index: 0;}#sk-container-id-1 div.sk-serial {display: flex;flex-direction: column;align-items: center;background-color: white;padding-right: 0.2em;padding-left: 0.2em;position: relative;}#sk-container-id-1 div.sk-item {position: relative;z-index: 1;}#sk-container-id-1 div.sk-parallel {display: flex;align-items: stretch;justify-content: center;background-color: white;position: relative;}#sk-container-id-1 div.sk-item::before, #sk-container-id-1 div.sk-parallel-item::before {content: \"\";position: absolute;border-left: 1px solid gray;box-sizing: border-box;top: 0;bottom: 0;left: 50%;z-index: -1;}#sk-container-id-1 div.sk-parallel-item {display: flex;flex-direction: column;z-index: 1;position: relative;background-color: white;}#sk-container-id-1 div.sk-parallel-item:first-child::after {align-self: flex-end;width: 50%;}#sk-container-id-1 div.sk-parallel-item:last-child::after {align-self: flex-start;width: 50%;}#sk-container-id-1 div.sk-parallel-item:only-child::after {width: 0;}#sk-container-id-1 div.sk-dashed-wrapped {border: 1px dashed gray;margin: 0 0.4em 0.5em 0.4em;box-sizing: border-box;padding-bottom: 0.4em;background-color: white;}#sk-container-id-1 div.sk-label label {font-family: monospace;font-weight: bold;display: inline-block;line-height: 1.2em;}#sk-container-id-1 div.sk-label-container {text-align: center;}#sk-container-id-1 div.sk-container {/* jupyter's `normalize.less` sets `[hidden] { display: none; }` but bootstrap.min.css set `[hidden] { display: none !important; }` so we also need the `!important` here to be able to override the default hidden behavior on the sphinx rendered scikit-learn.org. See: https://github.com/scikit-learn/scikit-learn/issues/21755 */display: inline-block !important;position: relative;}#sk-container-id-1 div.sk-text-repr-fallback {display: none;}</style><div id=\"sk-container-id-1\" class=\"sk-top-container\"><div class=\"sk-text-repr-fallback\"><pre>RandomForestClassifier(n_estimators=500, random_state=42)</pre><b>In a Jupyter environment, please rerun this cell to show the HTML representation or trust the notebook. <br />On GitHub, the HTML representation is unable to render, please try loading this page with nbviewer.org.</b></div><div class=\"sk-container\" hidden><div class=\"sk-item\"><div class=\"sk-estimator sk-toggleable\"><input class=\"sk-toggleable__control sk-hidden--visually\" id=\"sk-estimator-id-1\" type=\"checkbox\" checked><label for=\"sk-estimator-id-1\" class=\"sk-toggleable__label sk-toggleable__label-arrow\">RandomForestClassifier</label><div class=\"sk-toggleable__content\"><pre>RandomForestClassifier(n_estimators=500, random_state=42)</pre></div></div></div></div></div>"
      ],
      "text/plain": [
       "RandomForestClassifier(n_estimators=500, random_state=42)"
      ]
     },
     "execution_count": 14,
     "metadata": {},
     "output_type": "execute_result"
    }
   ],
   "source": [
    "model = RandomForestClassifier(n_estimators=500, random_state=42)\n",
    "model.fit(X_train_scaled, y_train)"
   ]
  },
  {
   "cell_type": "code",
   "execution_count": 15,
   "id": "3150b4de",
   "metadata": {
    "execution": {
     "iopub.execute_input": "2025-08-03T05:46:30.018826Z",
     "iopub.status.busy": "2025-08-03T05:46:30.018493Z",
     "iopub.status.idle": "2025-08-03T05:46:30.048913Z",
     "shell.execute_reply": "2025-08-03T05:46:30.047729Z"
    },
    "papermill": {
     "duration": 0.038316,
     "end_time": "2025-08-03T05:46:30.050637",
     "exception": false,
     "start_time": "2025-08-03T05:46:30.012321",
     "status": "completed"
    },
    "tags": []
   },
   "outputs": [],
   "source": [
    "y_pred = model.predict(X_test_scaled)"
   ]
  },
  {
   "cell_type": "code",
   "execution_count": 16,
   "id": "f5819ab6",
   "metadata": {
    "execution": {
     "iopub.execute_input": "2025-08-03T05:46:30.063075Z",
     "iopub.status.busy": "2025-08-03T05:46:30.061993Z",
     "iopub.status.idle": "2025-08-03T05:46:30.364114Z",
     "shell.execute_reply": "2025-08-03T05:46:30.363151Z"
    },
    "papermill": {
     "duration": 0.30982,
     "end_time": "2025-08-03T05:46:30.365680",
     "exception": false,
     "start_time": "2025-08-03T05:46:30.055860",
     "status": "completed"
    },
    "tags": []
   },
   "outputs": [
    {
     "name": "stdout",
     "output_type": "stream",
     "text": [
      "Accuracy: 84.38%\n",
      "\n",
      "Classification Report:\n",
      "               precision    recall  f1-score   support\n",
      "\n",
      "No Gallstones       0.83      0.88      0.85        33\n",
      "   Gallstones       0.86      0.81      0.83        31\n",
      "\n",
      "     accuracy                           0.84        64\n",
      "    macro avg       0.85      0.84      0.84        64\n",
      " weighted avg       0.84      0.84      0.84        64\n",
      "\n"
     ]
    },
    {
     "data": {
      "image/png": "[encoded data removed]",
      "text/plain": [
       "<Figure size 600x400 with 2 Axes>"
      ]
     },
     "metadata": {},
     "output_type": "display_data"
    }
   ],
   "source": [
    "from sklearn.metrics import accuracy_score, classification_report, confusion_matrix\n",
    "import seaborn as sns\n",
    "import matplotlib.pyplot as plt\n",
    "\n",
    "# Define class labels manually or extract from original column if needed\n",
    "class_names = ['No Gallstones', 'Gallstones']  # Modify if needed\n",
    "\n",
    "# Accuracy and classification report\n",
    "accuracy = accuracy_score(y_test, y_pred)\n",
    "print(f\"Accuracy: {accuracy * 100:.2f}%\\n\")\n",
    "print(\"Classification Report:\")\n",
    "print(classification_report(y_test, y_pred, target_names=class_names))\n",
    "\n",
    "# Confusion Matrix\n",
    "cm = confusion_matrix(y_test, y_pred)\n",
    "\n",
    "# Plot Confusion Matrix\n",
    "plt.figure(figsize=(6, 4))\n",
    "sns.heatmap(cm, annot=True, fmt='d', cmap='Blues',\n",
    "            xticklabels=class_names,\n",
    "            yticklabels=class_names)\n",
    "plt.xlabel(\"Predicted\")\n",
    "plt.ylabel(\"Actual\")\n",
    "plt.title(\"Confusion Matrix - Random Forest Classifier\")\n",
    "plt.tight_layout()\n",
    "plt.show()\n"
   ]
  }
 ],
 "metadata": {
  "kaggle": {
   "accelerator": "none",
   "dataSources": [
    {
     "datasetId": 7726411,
     "sourceId": 12261911,
     "sourceType": "datasetVersion"
    }
   ],
   "dockerImageVersionId": 31089,
   "isGpuEnabled": false,
   "isInternetEnabled": true,
   "language": "python",
   "sourceType": "notebook"
  },
  "kernelspec": {
   "display_name": "Python 3",
   "language": "python",
   "name": "python3"
  },
  "language_info": {
   "codemirror_mode": {
    "name": "ipython",
    "version": 3
   },
   "file_extension": ".py",
   "mimetype": "text/x-python",
   "name": "python",
   "nbconvert_exporter": "python",
   "pygments_lexer": "ipython3",
   "version": "3.11.13"
  },
  "papermill": {
   "default_parameters": {},
   "duration": 13.316408,
   "end_time": "2025-08-03T05:46:31.091017",
   "environment_variables": {},
   "exception": null,
   "input_path": "__notebook__.ipynb",
   "output_path": "__notebook__.ipynb",
   "parameters": {},
   "start_time": "2025-08-03T05:46:17.774609",
   "version": "2.6.0"
  }
 },
 "nbformat": 4,
 "nbformat_minor": 5
}
